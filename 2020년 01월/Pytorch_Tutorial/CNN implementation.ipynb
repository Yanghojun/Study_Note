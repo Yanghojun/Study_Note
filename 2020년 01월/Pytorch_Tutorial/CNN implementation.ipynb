{
 "cells": [
  {
   "cell_type": "code",
   "execution_count": 38,
   "metadata": {},
   "outputs": [],
   "source": [
    "import torch\n",
    "import torch.nn as nn\n",
    "import torchvision.datasets as dsets\n",
    "import torchvision.transforms as transforms\n",
    "import torch.nn.init"
   ]
  },
  {
   "cell_type": "code",
   "execution_count": 39,
   "metadata": {},
   "outputs": [],
   "source": [
    "device = 'cuda' if torch.cuda.is_available() else 'cpu'\n",
    "\n",
    "torch.manual_seed(777)\n",
    "if device == 'cuda':\n",
    "    torch.cuda.manual_seed_all"
   ]
  },
  {
   "cell_type": "code",
   "execution_count": 40,
   "metadata": {},
   "outputs": [],
   "source": [
    "learning_rate = 0.001\n",
    "training_epochs = 15\n",
    "batch_size = 100"
   ]
  },
  {
   "cell_type": "code",
   "execution_count": 41,
   "metadata": {},
   "outputs": [],
   "source": [
    "#MNIST DATAset\n",
    "\n",
    "mnist_train = dsets.MNIST(root='MNIST_data/',\n",
    "                          train=True,\n",
    "                          transform=transforms.ToTensor(),# 받아온 데이터를 어떻게 변화시킬 것인가\n",
    "                          download=True)\n",
    "mnist_test = dsets.MNIST(root='MNIST_data/',\n",
    "                        train=False,\n",
    "                        transform=transforms.ToTensor(),\n",
    "                        download=True)"
   ]
  },
  {
   "cell_type": "code",
   "execution_count": 42,
   "metadata": {},
   "outputs": [],
   "source": [
    "data_loader = torch.utils.data.DataLoader(dataset=mnist_train,\n",
    "                                         batch_size=batch_size,\n",
    "                                         shuffle=True,\n",
    "                                         drop_last=True)"
   ]
  },
  {
   "cell_type": "code",
   "execution_count": 56,
   "metadata": {},
   "outputs": [],
   "source": [
    "class CNN(nn.Module):\n",
    "    def __init__(self):\n",
    "        super(CNN, self).__init__()\n",
    "        self.layer1 = nn.Sequential(nn.Conv2d(1,32,kernel_size=3, stride=1, padding=1),\n",
    "                                   nn.ReLU(),\n",
    "                                   nn.MaxPool2d(2))\n",
    "        self.layer2 = nn.Sequential(\n",
    "        nn.Conv2d(32,64, kernel_size=3, stride=1, padding=1),\n",
    "        nn.ReLU(),\n",
    "        nn.MaxPool2d(2))\n",
    "        \n",
    "        self.layer3 = nn.Sequential(nn.Conv2d(64, 128, kernel_size=3, stride=1, padding=1),\n",
    "                                    nn.ReLU(),\n",
    "                                    nn.MaxPool2d(2)\n",
    "                                    )\n",
    "        \n",
    "        self.fc1 = nn.Linear(3*3*128, 625)\n",
    "        self.relu = nn.ReLU()\n",
    "        self.fc2 = nn.Linear(625, 10, bias = True)\n",
    "        torch.nn.init.xavier_uniform_(self.fc1.weight)   # 요 레이어의 초기화 진행\n",
    "        torch.nn.init.xavier_uniform_(self.fc2.weight)   # 요 레이어의 초기화 진행\n",
    "    \n",
    "    def forward(self, x):\n",
    "        out = self.layer1(x)\n",
    "        out = self.layer2(out)\n",
    "        out = self.layer3(out)\n",
    "        \n",
    "        out = out.view(out.size(0), -1)\n",
    "        out = self.fc1(out)\n",
    "        out = self.relu(out)\n",
    "        out = self.fc2(out)\n",
    "        return out"
   ]
  },
  {
   "cell_type": "code",
   "execution_count": 63,
   "metadata": {},
   "outputs": [
    {
     "name": "stdout",
     "output_type": "stream",
     "text": [
      "torch.Size([1, 10])\n"
     ]
    }
   ],
   "source": [
    "model = CNN().to(device)  # 저 device는 cuda 사용가능하면 cuda, 그렇지 않으면 \n",
    "\n",
    "tempValue = torch.Tensor(1,1,28,28).to(device)    # 모델이 잘 완성되었는지 테스트 하기 위해 임의의 값을 모델에 넣음\n",
    "print((model(tempValue).shape))"
   ]
  },
  {
   "cell_type": "code",
   "execution_count": 64,
   "metadata": {},
   "outputs": [],
   "source": [
    "criterion = nn.CrossEntropyLoss().to(device)\n",
    "optimizer = torch.optim.Adam(model.parameters(), lr = learning_rate)"
   ]
  },
  {
   "cell_type": "code",
   "execution_count": 65,
   "metadata": {},
   "outputs": [
    {
     "name": "stdout",
     "output_type": "stream",
     "text": [
      "Learning Started. It takes sometime.\n",
      "[Epoch:1] cost = 0.16517411172389984\n",
      "[Epoch:2] cost = 0.040099579840898514\n",
      "[Epoch:3] cost = 0.02978004701435566\n",
      "[Epoch:4] cost = 0.02164291776716709\n",
      "[Epoch:5] cost = 0.016912328079342842\n",
      "[Epoch:6] cost = 0.01500448863953352\n",
      "[Epoch:7] cost = 0.011082987301051617\n",
      "[Epoch:8] cost = 0.01195457298308611\n",
      "[Epoch:9] cost = 0.009030957706272602\n",
      "[Epoch:10] cost = 0.009198788553476334\n",
      "[Epoch:11] cost = 0.008080756291747093\n",
      "[Epoch:12] cost = 0.0058960882015526295\n",
      "[Epoch:13] cost = 0.007050026673823595\n",
      "[Epoch:14] cost = 0.004915947560220957\n",
      "[Epoch:15] cost = 0.007741077337414026\n",
      "Learning Finished!!\n"
     ]
    }
   ],
   "source": [
    "# training\n",
    "total_batch = len(data_loader)\n",
    "print(\"Learning Started. It takes sometime.\")\n",
    "for epoch in range(training_epochs):\n",
    "    avg_cost = 0      # 여기다가 하나씩 loss function의 값을 담을것임\n",
    "    \n",
    "    for X, Y in data_loader:    # X는 이미지, Y는 라벨임\n",
    "        X = X.to(device)        # 토치 쿠다 텐서가 되어있어야 한다. 그래서 이 두줄 넣어주는 것이라고 함\n",
    "        Y = Y.to(device)\n",
    "        \n",
    "        optimizer.zero_grad()\n",
    "        hypothesis = model(X)\n",
    "        \n",
    "        cost = criterion(hypothesis, Y)\n",
    "        cost.backward()\n",
    "        optimizer.step()\n",
    "        \n",
    "        avg_cost += cost / total_batch    # cost를 계속 누적해나감\n",
    "    \n",
    "    print('[Epoch:{}] cost = {}' .format(epoch+1, avg_cost))  # 한 에폭이 끝날 때 마다 코스트 값 출력시킴\n",
    "print('Learning Finished!!')"
   ]
  },
  {
   "cell_type": "code",
   "execution_count": 70,
   "metadata": {},
   "outputs": [
    {
     "name": "stdout",
     "output_type": "stream",
     "text": [
      "Accuracy:  0.9817999601364136\n"
     ]
    }
   ],
   "source": [
    "with torch.no_grad():   # 테스트 할 때는 학습을 안할거니까 이렇게 적어준다고 받아들이자\n",
    "    X_test = mnist_test.test_data.view(len(mnist_test ), 1, 28, 28).float().to(device)  # 테스트할 10000개의 데이터를 한번에 GPU에 넣었다\n",
    "    Y_test = mnist_test.test_labels.to(device)\n",
    "    \n",
    "    prediction = model(X_test)\n",
    "    correct_prediction = torch.argmax(prediction, 1) == Y_test\n",
    "    accuracy = correct_prediction.float().mean()\n",
    "    print('Accuracy: ', accuracy.item())"
   ]
  },
  {
   "cell_type": "code",
   "execution_count": null,
   "metadata": {},
   "outputs": [],
   "source": []
  }
 ],
 "metadata": {
  "kernelspec": {
   "display_name": "jupyjupy",
   "language": "python",
   "name": "jupy"
  },
  "language_info": {
   "codemirror_mode": {
    "name": "ipython",
    "version": 3
   },
   "file_extension": ".py",
   "mimetype": "text/x-python",
   "name": "python",
   "nbconvert_exporter": "python",
   "pygments_lexer": "ipython3",
   "version": "3.6.10"
  }
 },
 "nbformat": 4,
 "nbformat_minor": 2
}
