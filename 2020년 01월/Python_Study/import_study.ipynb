{
 "cells": [
  {
   "cell_type": "markdown",
   "metadata": {},
   "source": [
    "# import로 패키지 가져오기\n",
    "패키지는 특정 기능과 관련된 여러 모듈을 묶은 것인데, 패키지에 들어있는 모듈도 import를 사용하여 가져옴"
   ]
  },
  {
   "cell_type": "code",
   "execution_count": 6,
   "metadata": {},
   "outputs": [
    {
     "data": {
      "text/plain": [
       "200"
      ]
     },
     "execution_count": 6,
     "metadata": {},
     "output_type": "execute_result"
    }
   ],
   "source": [
    "import urllib.request    # url과 관련한 여러 기능들을 묶어놓은 패키지 urllib\n",
    "                          # 이 urllib의 request모듈을 import 한다.\n",
    "                          # urllib.request가 하나의 변수라고 생각하면 된다.\n",
    "                          # 즉 이 urllib.request에 들어있는 함수나 변수명을 쓰기 위해서는 아래와 같이 작성하면 된다.\n",
    "response = urllib.request.urlopen('http://www.google.co.kr')\n",
    "response.status"
   ]
  },
  {
   "cell_type": "code",
   "execution_count": 7,
   "metadata": {},
   "outputs": [
    {
     "data": {
      "text/plain": [
       "200"
      ]
     },
     "execution_count": 7,
     "metadata": {},
     "output_type": "execute_result"
    }
   ],
   "source": [
    "from urllib.request import Request, urlopen    # urlopen 함수, Request 클래스를 가져옴.\n",
    "                                                # from을 활용하면 변수명을 길게 안써도 되고, 하나씩 콕 찝어서 가져올 수 있다.\n",
    "req = Request('http://www.google.co.kr')\n",
    "response = urlopen(req)\n",
    "response.status"
   ]
  },
  {
   "cell_type": "code",
   "execution_count": 10,
   "metadata": {},
   "outputs": [],
   "source": [
    "from urllib.request import *    # urllib의 request 모듈에서 모든 변수, 함수, 클래스를 가져옴\n",
    "req = Request('http://www.google.co.kr')"
   ]
  },
  {
   "cell_type": "markdown",
   "metadata": {},
   "source": [
    "# 패키지 사용하기!\n",
    "![title](package_image.png) # markdown안에서 나오게 할 때 "
   ]
  }
 ],
 "metadata": {
  "kernelspec": {
   "display_name": "jupyjupy",
   "language": "python",
   "name": "jupy"
  },
  "language_info": {
   "codemirror_mode": {
    "name": "ipython",
    "version": 3
   },
   "file_extension": ".py",
   "mimetype": "text/x-python",
   "name": "python",
   "nbconvert_exporter": "python",
   "pygments_lexer": "ipython3",
   "version": "3.6.10"
  }
 },
 "nbformat": 4,
 "nbformat_minor": 2
}
